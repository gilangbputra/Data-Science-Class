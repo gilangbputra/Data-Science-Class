{
 "cells": [
  {
   "cell_type": "markdown",
   "id": "870da8e6",
   "metadata": {},
   "source": [
    "# Tipe Data"
   ]
  },
  {
   "cell_type": "code",
   "execution_count": 10,
   "id": "b7e1317a",
   "metadata": {},
   "outputs": [],
   "source": [
    "a = 1000\n",
    "b = 3.14\n",
    "c = \"aku anak soleh\""
   ]
  },
  {
   "cell_type": "code",
   "execution_count": 30,
   "id": "76d6155d",
   "metadata": {},
   "outputs": [
    {
     "name": "stdout",
     "output_type": "stream",
     "text": [
      "<class 'int'>\n",
      "<class 'float'>\n",
      "<class 'str'>\n",
      "<class 'bool'>\n",
      "<class 'bool'>\n"
     ]
    }
   ],
   "source": [
    "print (type (a))\n",
    "print (type (b))\n",
    "print (type (c))\n",
    "print (type (True))\n",
    "print (type (False))"
   ]
  },
  {
   "cell_type": "markdown",
   "id": "096c30c5",
   "metadata": {},
   "source": [
    "# Konversi Tipe Data"
   ]
  },
  {
   "cell_type": "code",
   "execution_count": 18,
   "id": "708df487",
   "metadata": {},
   "outputs": [
    {
     "data": {
      "text/plain": [
       "12345.0"
      ]
     },
     "execution_count": 18,
     "metadata": {},
     "output_type": "execute_result"
    }
   ],
   "source": [
    "float (12345)"
   ]
  },
  {
   "cell_type": "code",
   "execution_count": 20,
   "id": "78268b33",
   "metadata": {},
   "outputs": [
    {
     "data": {
      "text/plain": [
       "17"
      ]
     },
     "execution_count": 20,
     "metadata": {},
     "output_type": "execute_result"
    }
   ],
   "source": [
    "int (17.3)\n",
    "int (17.9)"
   ]
  },
  {
   "cell_type": "code",
   "execution_count": 21,
   "id": "b74c472a",
   "metadata": {},
   "outputs": [
    {
     "data": {
      "text/plain": [
       "int"
      ]
     },
     "execution_count": 21,
     "metadata": {},
     "output_type": "execute_result"
    }
   ],
   "source": [
    "type (-500)"
   ]
  },
  {
   "cell_type": "markdown",
   "id": "350fd143",
   "metadata": {},
   "source": [
    "# Ekspresi"
   ]
  },
  {
   "cell_type": "code",
   "execution_count": 11,
   "id": "fa4c9dd3",
   "metadata": {},
   "outputs": [
    {
     "name": "stdout",
     "output_type": "stream",
     "text": [
      "1\n",
      "4\n",
      "625\n",
      "25.0\n"
     ]
    }
   ],
   "source": [
    "# Modulo\n",
    "print (9%2)\n",
    "\n",
    "# Flor division\n",
    "print (9//2)\n",
    "\n",
    "# Power\n",
    "print (25**2)\n",
    "\n",
    "# Root\n",
    "print (625**(1/2))"
   ]
  },
  {
   "cell_type": "markdown",
   "id": "1c42a453",
   "metadata": {},
   "source": [
    "# Variabel"
   ]
  },
  {
   "cell_type": "code",
   "execution_count": 12,
   "id": "de3274d2",
   "metadata": {},
   "outputs": [],
   "source": [
    "a = 3\n",
    "b = 2\n",
    "c = 1"
   ]
  },
  {
   "cell_type": "code",
   "execution_count": 13,
   "id": "45820c4f",
   "metadata": {},
   "outputs": [
    {
     "data": {
      "text/plain": [
       "5"
      ]
     },
     "execution_count": 13,
     "metadata": {},
     "output_type": "execute_result"
    }
   ],
   "source": [
    "a *b -c"
   ]
  },
  {
   "cell_type": "code",
   "execution_count": 38,
   "id": "013a2538",
   "metadata": {},
   "outputs": [],
   "source": [
    "p = 20\n",
    "l = 10\n",
    "L = p * l\n",
    "k = (2 * (p+l))"
   ]
  },
  {
   "cell_type": "code",
   "execution_count": 41,
   "id": "231bd048",
   "metadata": {},
   "outputs": [
    {
     "name": "stdout",
     "output_type": "stream",
     "text": [
      "Luas 200\n",
      "Keliling 60\n",
      "13Persegi 2600\n"
     ]
    }
   ],
   "source": [
    "print (\"Luas\",L)\n",
    "print (\"Keliling\", k)\n",
    "print (\"13Persegi\", 13*L)"
   ]
  },
  {
   "cell_type": "code",
   "execution_count": 43,
   "id": "2a912254",
   "metadata": {},
   "outputs": [],
   "source": [
    "a = 'sarjun asu banget'"
   ]
  },
  {
   "cell_type": "code",
   "execution_count": 62,
   "id": "35954022",
   "metadata": {},
   "outputs": [
    {
     "data": {
      "text/plain": [
       "'asu'"
      ]
     },
     "execution_count": 62,
     "metadata": {},
     "output_type": "execute_result"
    }
   ],
   "source": [
    "a[7:-7]"
   ]
  },
  {
   "cell_type": "code",
   "execution_count": 64,
   "id": "bec61e27",
   "metadata": {},
   "outputs": [],
   "source": [
    "a = 'Luhut Binsar Pandjaitan'"
   ]
  },
  {
   "cell_type": "code",
   "execution_count": 69,
   "id": "34d22dac",
   "metadata": {},
   "outputs": [
    {
     "data": {
      "text/plain": [
       "'Binsar'"
      ]
     },
     "execution_count": 69,
     "metadata": {},
     "output_type": "execute_result"
    }
   ],
   "source": [
    "a[6:12]"
   ]
  },
  {
   "cell_type": "code",
   "execution_count": 7,
   "id": "15462f3f",
   "metadata": {},
   "outputs": [],
   "source": [
    "L = ['Yogyakarta', 9.9, 123, [23, 1.0 , 'Surabaya'], ('yk sby', 21 , 0.5) ]"
   ]
  },
  {
   "cell_type": "code",
   "execution_count": 8,
   "id": "d672f6b3",
   "metadata": {},
   "outputs": [
    {
     "data": {
      "text/plain": [
       "['Yogyakarta', 9.9, 123, [23, 1.0, 'Surabaya'], ('yk sby', 21, 0.5)]"
      ]
     },
     "execution_count": 8,
     "metadata": {},
     "output_type": "execute_result"
    }
   ],
   "source": [
    "L"
   ]
  },
  {
   "cell_type": "code",
   "execution_count": 22,
   "id": "0d3e1b96",
   "metadata": {},
   "outputs": [
    {
     "name": "stdout",
     "output_type": "stream",
     "text": [
      "5\n",
      "[23, 1.0, 'Surabaya']\n",
      "[9.9, 123, [23, 1.0, 'Surabaya']]\n"
     ]
    }
   ],
   "source": [
    "print (len (L))\n",
    "print (L [3])\n",
    "print (L[1:4])"
   ]
  },
  {
   "cell_type": "code",
   "execution_count": 33,
   "id": "e42ae3f3",
   "metadata": {},
   "outputs": [],
   "source": [
    "LL = L + [3.4, 5, 'Joko']"
   ]
  },
  {
   "cell_type": "code",
   "execution_count": 34,
   "id": "6d09562e",
   "metadata": {},
   "outputs": [
    {
     "name": "stdout",
     "output_type": "stream",
     "text": [
      "['Yogyakarta', 9.9, 123, [23, 1.0, 'Surabaya'], ('yk sby', 21, 0.5), 3.4, 5, 'Joko']\n",
      "['Yogyakarta', 9.9, 123, [23, 1.0, 'Surabaya'], ('yk sby', 21, 0.5)]\n"
     ]
    }
   ],
   "source": [
    "print (LL)\n",
    "print (L)"
   ]
  },
  {
   "cell_type": "code",
   "execution_count": 40,
   "id": "b2cf0c18",
   "metadata": {},
   "outputs": [],
   "source": [
    "L.append('Jokowi')"
   ]
  },
  {
   "cell_type": "code",
   "execution_count": 41,
   "id": "f467882c",
   "metadata": {},
   "outputs": [
    {
     "data": {
      "text/plain": [
       "['Yogyakarta',\n",
       " 9.9,\n",
       " 123,\n",
       " [23, 1.0, 'Surabaya'],\n",
       " ('yk sby', 21, 0.5),\n",
       " 'Jokowi',\n",
       " 'Jokowi']"
      ]
     },
     "execution_count": 41,
     "metadata": {},
     "output_type": "execute_result"
    }
   ],
   "source": [
    "L"
   ]
  },
  {
   "cell_type": "code",
   "execution_count": 42,
   "id": "8e3ebed2",
   "metadata": {},
   "outputs": [
    {
     "data": {
      "text/plain": [
       "'Jokowi'"
      ]
     },
     "execution_count": 42,
     "metadata": {},
     "output_type": "execute_result"
    }
   ],
   "source": [
    "L.pop()"
   ]
  },
  {
   "cell_type": "code",
   "execution_count": 43,
   "id": "7331b2cc",
   "metadata": {},
   "outputs": [
    {
     "data": {
      "text/plain": [
       "['Yogyakarta', 9.9, 123, [23, 1.0, 'Surabaya'], ('yk sby', 21, 0.5), 'Jokowi']"
      ]
     },
     "execution_count": 43,
     "metadata": {},
     "output_type": "execute_result"
    }
   ],
   "source": [
    "L"
   ]
  },
  {
   "cell_type": "code",
   "execution_count": 44,
   "id": "dbde28c1",
   "metadata": {},
   "outputs": [
    {
     "data": {
      "text/plain": [
       "[23, 1.0, 'Surabaya']"
      ]
     },
     "execution_count": 44,
     "metadata": {},
     "output_type": "execute_result"
    }
   ],
   "source": [
    "L.pop(3)"
   ]
  },
  {
   "cell_type": "code",
   "execution_count": 45,
   "id": "20e8ad64",
   "metadata": {},
   "outputs": [],
   "source": [
    "L.reverse ()"
   ]
  },
  {
   "cell_type": "code",
   "execution_count": 46,
   "id": "31872226",
   "metadata": {},
   "outputs": [
    {
     "data": {
      "text/plain": [
       "['Jokowi', ('yk sby', 21, 0.5), 123, 9.9, 'Yogyakarta']"
      ]
     },
     "execution_count": 46,
     "metadata": {},
     "output_type": "execute_result"
    }
   ],
   "source": [
    "L"
   ]
  },
  {
   "cell_type": "code",
   "execution_count": 48,
   "id": "b05dcb0e",
   "metadata": {},
   "outputs": [],
   "source": [
    "L.reverse()"
   ]
  },
  {
   "cell_type": "code",
   "execution_count": 49,
   "id": "3cb5fb13",
   "metadata": {},
   "outputs": [
    {
     "data": {
      "text/plain": [
       "['Yogyakarta', 9.9, 123, ('yk sby', 21, 0.5), 'Jokowi']"
      ]
     },
     "execution_count": 49,
     "metadata": {},
     "output_type": "execute_result"
    }
   ],
   "source": [
    "L"
   ]
  },
  {
   "cell_type": "code",
   "execution_count": 57,
   "id": "5d95c863",
   "metadata": {},
   "outputs": [],
   "source": [
    "Hewan = ['babi', 'kecoa', 'tumo', 'anjing']\n",
    "Hewan.sort ()"
   ]
  },
  {
   "cell_type": "code",
   "execution_count": 55,
   "id": "a4fc6989",
   "metadata": {},
   "outputs": [],
   "source": [
    "Hewan.sort ()"
   ]
  },
  {
   "cell_type": "code",
   "execution_count": 58,
   "id": "7be20ac9",
   "metadata": {},
   "outputs": [
    {
     "data": {
      "text/plain": [
       "['anjing', 'babi', 'kecoa', 'tumo']"
      ]
     },
     "execution_count": 58,
     "metadata": {},
     "output_type": "execute_result"
    }
   ],
   "source": [
    "Hewan"
   ]
  },
  {
   "cell_type": "code",
   "execution_count": 67,
   "id": "b7c46f6a",
   "metadata": {},
   "outputs": [],
   "source": [
    "list1 = [1, 2, 3]\n",
    "list2 = [4, 5, 6]\n",
    "list3 = [7, 8, 9]"
   ]
  },
  {
   "cell_type": "code",
   "execution_count": 68,
   "id": "b74f6d19",
   "metadata": {},
   "outputs": [],
   "source": [
    "matrix = (list1, list2, list3)"
   ]
  },
  {
   "cell_type": "code",
   "execution_count": 69,
   "id": "ad86031a",
   "metadata": {},
   "outputs": [
    {
     "data": {
      "text/plain": [
       "([1, 2, 3], [4, 5, 6], [7, 8, 9])"
      ]
     },
     "execution_count": 69,
     "metadata": {},
     "output_type": "execute_result"
    }
   ],
   "source": [
    "matrix"
   ]
  },
  {
   "cell_type": "code",
   "execution_count": 70,
   "id": "41bef44e",
   "metadata": {},
   "outputs": [
    {
     "data": {
      "text/plain": [
       "[4, 5, 6]"
      ]
     },
     "execution_count": 70,
     "metadata": {},
     "output_type": "execute_result"
    }
   ],
   "source": [
    "matrix [1]"
   ]
  },
  {
   "cell_type": "code",
   "execution_count": 71,
   "id": "0d44c7fe",
   "metadata": {},
   "outputs": [
    {
     "data": {
      "text/plain": [
       "9"
      ]
     },
     "execution_count": 71,
     "metadata": {},
     "output_type": "execute_result"
    }
   ],
   "source": [
    "matrix [2][2]"
   ]
  },
  {
   "cell_type": "code",
   "execution_count": 72,
   "id": "fb2d8c03",
   "metadata": {},
   "outputs": [],
   "source": [
    "type1 = [1, 2, 3]\n",
    "type2 = [1.5, 2.5, 3.5]\n",
    "type3 = ['sarju', 'gilang', 'ojik']\n",
    "type4 = [True, False, False]"
   ]
  },
  {
   "cell_type": "code",
   "execution_count": 73,
   "id": "0655be3b",
   "metadata": {},
   "outputs": [],
   "source": [
    "matrixx = (type1, type2, type3, type4)"
   ]
  },
  {
   "cell_type": "code",
   "execution_count": 89,
   "id": "11c24f0c",
   "metadata": {},
   "outputs": [
    {
     "data": {
      "text/plain": [
       "([1, 2, 3], [1.5, 2.5, 3.5], ['gilang', 'ojik', 'sarju'], [True, False, False])"
      ]
     },
     "execution_count": 89,
     "metadata": {},
     "output_type": "execute_result"
    }
   ],
   "source": [
    "matrixx"
   ]
  },
  {
   "cell_type": "code",
   "execution_count": 91,
   "id": "36e06565",
   "metadata": {},
   "outputs": [],
   "source": [
    "matrixx[2].sort ()"
   ]
  },
  {
   "cell_type": "code",
   "execution_count": 93,
   "id": "1c8112b0",
   "metadata": {},
   "outputs": [],
   "source": [
    "matrixx [0].sort ()"
   ]
  },
  {
   "cell_type": "code",
   "execution_count": 94,
   "id": "fd55361e",
   "metadata": {},
   "outputs": [
    {
     "data": {
      "text/plain": [
       "([1, 2, 3], [1.5, 2.5, 3.5], ['gilang', 'ojik', 'sarju'], [True, False, False])"
      ]
     },
     "execution_count": 94,
     "metadata": {},
     "output_type": "execute_result"
    }
   ],
   "source": [
    "matrixx"
   ]
  },
  {
   "cell_type": "code",
   "execution_count": 111,
   "id": "3f7e79ef",
   "metadata": {},
   "outputs": [],
   "source": [
    "matrixx [3].reverse ()"
   ]
  },
  {
   "cell_type": "code",
   "execution_count": 109,
   "id": "6b285973",
   "metadata": {},
   "outputs": [
    {
     "data": {
      "text/plain": [
       "([3, 2, 1], [1.5, 2.5, 5.5], ['gilang', 'ojik', 'sarju'], [False, False, True])"
      ]
     },
     "execution_count": 109,
     "metadata": {},
     "output_type": "execute_result"
    }
   ],
   "source": [
    "matrixx"
   ]
  },
  {
   "cell_type": "code",
   "execution_count": 106,
   "id": "2f9c4970",
   "metadata": {},
   "outputs": [
    {
     "data": {
      "text/plain": [
       "5"
      ]
     },
     "execution_count": 106,
     "metadata": {},
     "output_type": "execute_result"
    }
   ],
   "source": [
    "matrixx [0].pop ()"
   ]
  },
  {
   "cell_type": "code",
   "execution_count": 99,
   "id": "9419d560",
   "metadata": {},
   "outputs": [
    {
     "data": {
      "text/plain": [
       "([3, 2, 1], [1.5, 2.5], ['gilang', 'ojik', 'sarju'], [True, False, False])"
      ]
     },
     "execution_count": 99,
     "metadata": {},
     "output_type": "execute_result"
    }
   ],
   "source": [
    "matrixx"
   ]
  },
  {
   "cell_type": "code",
   "execution_count": 103,
   "id": "c946a4a8",
   "metadata": {},
   "outputs": [],
   "source": [
    "matrixx [1].append (5.5)"
   ]
  },
  {
   "cell_type": "code",
   "execution_count": 113,
   "id": "997b9a76",
   "metadata": {},
   "outputs": [],
   "source": [
    "matrixx [2]. reverse ()"
   ]
  },
  {
   "cell_type": "code",
   "execution_count": 114,
   "id": "8605810e",
   "metadata": {},
   "outputs": [
    {
     "data": {
      "text/plain": [
       "([3, 2, 1], [1.5, 2.5, 5.5], ['sarju', 'ojik', 'gilang'], [True, False, False])"
      ]
     },
     "execution_count": 114,
     "metadata": {},
     "output_type": "execute_result"
    }
   ],
   "source": [
    "matrixx"
   ]
  },
  {
   "cell_type": "code",
   "execution_count": 119,
   "id": "e098994c",
   "metadata": {},
   "outputs": [
    {
     "name": "stdout",
     "output_type": "stream",
     "text": [
      "[4, 20, 24, 28, 16]\n"
     ]
    }
   ],
   "source": [
    "test = [4, 8, 12, 16]\n",
    "test [1:3] = [20, 24, 28]\n",
    "print (test)"
   ]
  },
  {
   "cell_type": "code",
   "execution_count": 120,
   "id": "b202bdce",
   "metadata": {},
   "outputs": [],
   "source": [
    "kota = {'yk', 'sby', 'mn', ' bdg', 'jkt', 'sby', 'mn'}"
   ]
  },
  {
   "cell_type": "code",
   "execution_count": 121,
   "id": "e2d0aa2e",
   "metadata": {},
   "outputs": [
    {
     "data": {
      "text/plain": [
       "set"
      ]
     },
     "execution_count": 121,
     "metadata": {},
     "output_type": "execute_result"
    }
   ],
   "source": [
    "type (kota)"
   ]
  },
  {
   "cell_type": "code",
   "execution_count": 122,
   "id": "f57b8523",
   "metadata": {},
   "outputs": [
    {
     "data": {
      "text/plain": [
       "{' bdg', 'jkt', 'mn', 'sby', 'yk'}"
      ]
     },
     "execution_count": 122,
     "metadata": {},
     "output_type": "execute_result"
    }
   ],
   "source": [
    "kota "
   ]
  },
  {
   "cell_type": "code",
   "execution_count": 123,
   "id": "22667c3e",
   "metadata": {},
   "outputs": [
    {
     "data": {
      "text/plain": [
       "['mn', ' bdg', 'jkt', 'sby', 'yk']"
      ]
     },
     "execution_count": 123,
     "metadata": {},
     "output_type": "execute_result"
    }
   ],
   "source": [
    "list(kota)"
   ]
  },
  {
   "cell_type": "code",
   "execution_count": 124,
   "id": "bc4d1ece",
   "metadata": {},
   "outputs": [
    {
     "data": {
      "text/plain": [
       "{' bdg', 'jkt', 'mn', 'sby', 'yk'}"
      ]
     },
     "execution_count": 124,
     "metadata": {},
     "output_type": "execute_result"
    }
   ],
   "source": [
    "set (kota)"
   ]
  },
  {
   "cell_type": "code",
   "execution_count": 128,
   "id": "112ca2b0",
   "metadata": {},
   "outputs": [],
   "source": [
    "kota.remove ('mn')"
   ]
  },
  {
   "cell_type": "code",
   "execution_count": 129,
   "id": "393db52e",
   "metadata": {},
   "outputs": [
    {
     "data": {
      "text/plain": [
       "{' bdg', 'jkt', 'sby', 'yk'}"
      ]
     },
     "execution_count": 129,
     "metadata": {},
     "output_type": "execute_result"
    }
   ],
   "source": [
    "kota"
   ]
  },
  {
   "cell_type": "code",
   "execution_count": 130,
   "id": "9e1bd2c7",
   "metadata": {},
   "outputs": [],
   "source": [
    "kota.add ('mn')"
   ]
  },
  {
   "cell_type": "code",
   "execution_count": 131,
   "id": "cceb64e0",
   "metadata": {},
   "outputs": [
    {
     "data": {
      "text/plain": [
       "{' bdg', 'jkt', 'mn', 'sby', 'yk'}"
      ]
     },
     "execution_count": 131,
     "metadata": {},
     "output_type": "execute_result"
    }
   ],
   "source": [
    "kota"
   ]
  },
  {
   "cell_type": "code",
   "execution_count": 135,
   "id": "74e3b591",
   "metadata": {},
   "outputs": [
    {
     "name": "stdout",
     "output_type": "stream",
     "text": [
      "True\n",
      "False\n"
     ]
    }
   ],
   "source": [
    "print ('mn' in kota)\n",
    "print ('mlg' in kota)"
   ]
  },
  {
   "cell_type": "code",
   "execution_count": 137,
   "id": "b9dfeec9",
   "metadata": {},
   "outputs": [],
   "source": [
    "Data = {'Nama': ('joko', 'widodo'), 'Nilai' : [2.5, 3], 'Umur' : {35, 70}}"
   ]
  },
  {
   "cell_type": "code",
   "execution_count": 138,
   "id": "78ef3788",
   "metadata": {},
   "outputs": [
    {
     "data": {
      "text/plain": [
       "{'Nama': ('joko', 'widodo'), 'Nilai': [2.5, 3], 'Umur': {35, 70}}"
      ]
     },
     "execution_count": 138,
     "metadata": {},
     "output_type": "execute_result"
    }
   ],
   "source": [
    "Data"
   ]
  },
  {
   "cell_type": "code",
   "execution_count": 168,
   "id": "9e7782d5",
   "metadata": {},
   "outputs": [],
   "source": [
    "Data ['Nilai']= [2.5, 3]"
   ]
  },
  {
   "cell_type": "code",
   "execution_count": 156,
   "id": "f0ef2cc2",
   "metadata": {},
   "outputs": [
    {
     "data": {
      "text/plain": [
       "{'Nama': ('joko', 'widodo'),\n",
       " 'Nilai': [2.5, 3],\n",
       " 'Agama': ['islam', 'hindu'],\n",
       " 'Umur': {35, 70}}"
      ]
     },
     "execution_count": 156,
     "metadata": {},
     "output_type": "execute_result"
    }
   ],
   "source": [
    "Data"
   ]
  },
  {
   "cell_type": "code",
   "execution_count": 163,
   "id": "77b04ed5",
   "metadata": {},
   "outputs": [],
   "source": [
    "del(Data)['Nilai'][1]"
   ]
  },
  {
   "cell_type": "code",
   "execution_count": 169,
   "id": "f3db9778",
   "metadata": {},
   "outputs": [
    {
     "data": {
      "text/plain": [
       "{'Nama': ('joko', 'widodo'),\n",
       " 'Nilai': [2.5, 3],\n",
       " 'Agama': ['islam', 'hindu'],\n",
       " 'Umur': {35, 70}}"
      ]
     },
     "execution_count": 169,
     "metadata": {},
     "output_type": "execute_result"
    }
   ],
   "source": [
    "Data"
   ]
  },
  {
   "cell_type": "code",
   "execution_count": 171,
   "id": "bfe1333d",
   "metadata": {},
   "outputs": [
    {
     "data": {
      "text/plain": [
       "dict_values([('joko', 'widodo'), [2.5, 3], ['islam', 'hindu'], {35, 70}])"
      ]
     },
     "execution_count": 171,
     "metadata": {},
     "output_type": "execute_result"
    }
   ],
   "source": [
    "Data.values()"
   ]
  },
  {
   "cell_type": "code",
   "execution_count": 172,
   "id": "1fb98e76",
   "metadata": {},
   "outputs": [
    {
     "data": {
      "text/plain": [
       "dict_keys(['Nama', 'Nilai', 'Agama', 'Umur'])"
      ]
     },
     "execution_count": 172,
     "metadata": {},
     "output_type": "execute_result"
    }
   ],
   "source": [
    "Data.keys()"
   ]
  },
  {
   "cell_type": "code",
   "execution_count": null,
   "id": "7bd01d1c",
   "metadata": {},
   "outputs": [],
   "source": []
  }
 ],
 "metadata": {
  "kernelspec": {
   "display_name": "Python 3 (ipykernel)",
   "language": "python",
   "name": "python3"
  },
  "language_info": {
   "codemirror_mode": {
    "name": "ipython",
    "version": 3
   },
   "file_extension": ".py",
   "mimetype": "text/x-python",
   "name": "python",
   "nbconvert_exporter": "python",
   "pygments_lexer": "ipython3",
   "version": "3.9.7"
  }
 },
 "nbformat": 4,
 "nbformat_minor": 5
}
